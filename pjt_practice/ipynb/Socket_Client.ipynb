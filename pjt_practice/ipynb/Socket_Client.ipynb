{
 "cells": [
  {
   "cell_type": "code",
   "execution_count": 1,
   "metadata": {},
   "outputs": [
    {
     "name": "stdout",
     "output_type": "stream",
     "text": [
      "Sent: {'input_path': 'input/test.xlsx', 'isUseInputDict': False, 'inputDict_path': '', 'isUseDefaultDict': True}\n",
      "Received: {'status': True, 'output_path': 'output/test.xlsx', 'newDict_path': 'newDict.xlsx'}\n"
     ]
    }
   ],
   "source": [
    "#!/usr/bin/env python3\n",
    "import socket\n",
    "import json\n",
    "\n",
    "HOST, PORT = \"localhost\", 9527\n",
    "data = {\n",
    "    \"input_path\":\"input/test.xlsx\",\n",
    "    \"isUseInputDict\" : False,\n",
    "    \"inputDict_path\" : \"\",\n",
    "    \"isUseDefaultDict\" : True\n",
    "}\n",
    "\n",
    "# Create a socket (SOCK_STREAM means a TCP socket)\n",
    "sock = socket.socket(socket.AF_INET, socket.SOCK_STREAM)\n",
    "\n",
    "try:\n",
    "    # Connect to server and send data\n",
    "    sock.connect((HOST, PORT))\n",
    "    sock.send(bytes(json.dumps(data), 'UTF-8'))\n",
    "\n",
    "    # Receive data from the server and shut down\n",
    "    received = json.loads(sock.recv(1024).decode('UTF-8'))\n",
    "finally:\n",
    "    sock.close()\n",
    "\n",
    "print (\"Sent: {}\".format(data))\n",
    "print (\"Received: {}\".format(received))"
   ]
  }
 ],
 "metadata": {
  "kernelspec": {
   "display_name": "Python 3",
   "language": "python",
   "name": "python3"
  },
  "language_info": {
   "codemirror_mode": {
    "name": "ipython",
    "version": 3
   },
   "file_extension": ".py",
   "mimetype": "text/x-python",
   "name": "python",
   "nbconvert_exporter": "python",
   "pygments_lexer": "ipython3",
   "version": "3.7.4"
  }
 },
 "nbformat": 4,
 "nbformat_minor": 2
}
