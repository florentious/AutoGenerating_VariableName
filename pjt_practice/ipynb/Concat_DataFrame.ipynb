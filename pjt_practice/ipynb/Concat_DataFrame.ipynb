{
 "cells": [
  {
   "cell_type": "code",
   "execution_count": 1,
   "metadata": {},
   "outputs": [],
   "source": [
    "import pandas as pd\n",
    "import numpy as np\n",
    "\n",
    "import os"
   ]
  },
  {
   "cell_type": "code",
   "execution_count": 3,
   "metadata": {},
   "outputs": [],
   "source": [
    "def merge_df(input_path, output_path, output_name='sejong_corpus.csv') :\n",
    "\n",
    "    def mkdirs_(output_path) : \n",
    "        try :\n",
    "            if not os.path.exists(output_path) :\n",
    "                os.mkdir(output_path)\n",
    "        except :\n",
    "            print('Error : '+ output_path)\n",
    "\n",
    "    mkdirs_(output_path)\n",
    "\n",
    "    dir_list =  [csv for csv in os.listdir(input_path) if csv.endswith(\".csv\")]\n",
    "\n",
    "    res_df = pd.DataFrame([])\n",
    "\n",
    "    for cf in dir_list :\n",
    "        tmp = pd.read_csv(input_path+cf,index_col=0)\n",
    "        res_df = res_df.append(tmp, ignore_index = True)\n",
    "\n",
    "    res_df = res_df.reset_index()\n",
    "\n",
    "    res_df.to_csv(output_path+output_name)"
   ]
  },
  {
   "cell_type": "code",
   "execution_count": null,
   "metadata": {},
   "outputs": [],
   "source": [
    "\n",
    "input_path = 'data/sejong_corpus/convert/'\n",
    "output_path = 'data/sejong_corpus/'\n",
    "\n",
    "output_name = 'sejong_corpus.csv'\n",
    "\n",
    "merge_df(input_path, output_path)"
   ]
  }
 ],
 "metadata": {
  "kernelspec": {
   "display_name": "Python 3",
   "language": "python",
   "name": "python3"
  },
  "language_info": {
   "codemirror_mode": {
    "name": "ipython",
    "version": 3
   },
   "file_extension": ".py",
   "mimetype": "text/x-python",
   "name": "python",
   "nbconvert_exporter": "python",
   "pygments_lexer": "ipython3",
   "version": "3.7.4"
  }
 },
 "nbformat": 4,
 "nbformat_minor": 2
}
