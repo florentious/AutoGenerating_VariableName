{
 "cells": [
  {
   "cell_type": "code",
   "execution_count": 1,
   "metadata": {},
   "outputs": [
    {
     "name": "stderr",
     "output_type": "stream",
     "text": [
      "C:\\dev\\Anaconda3\\lib\\site-packages\\numpy\\lib\\arraysetops.py:569: FutureWarning: elementwise comparison failed; returning scalar instead, but in the future will perform elementwise comparison\n",
      "  mask |= (ar1 == a)\n"
     ]
    }
   ],
   "source": [
    "import pandas as pd\n",
    "\n",
    "csv_path = 'C:/dev/workspace/AutoGenerating_VariableName/pjt_practice/ipynb/data/sejong_corpus/sejong_corpus.csv'\n",
    "\n",
    "tmp_df = pd.read_csv(csv_path, index_col=0)\n",
    "tmp_df = tmp_df.loc[:,['idx','origin','result']]"
   ]
  },
  {
   "cell_type": "code",
   "execution_count": null,
   "metadata": {},
   "outputs": [],
   "source": [
    "def spacing(input_) :\n",
    "    result = \"\"\n",
    "    tmp = input_.split('+')\n",
    "    \n",
    "    for t in tmp :\n",
    "        result += t.split('/')[0] + ' '\n",
    "        \n",
    "    return result[:-1]"
   ]
  },
  {
   "cell_type": "code",
   "execution_count": null,
   "metadata": {},
   "outputs": [],
   "source": [
    "def CVcount(input_) :\n",
    "    return len(input_)"
   ]
  },
  {
   "cell_type": "code",
   "execution_count": 89,
   "metadata": {},
   "outputs": [],
   "source": [
    "def conv2spacingData(input_,output_='data/sejong_corpus/spacing.csv') :\n",
    "    import pandas as pd\n",
    "    \n",
    "    tmp_df = pd.read_csv(input_, index_col=0)\n",
    "    tmp_df = tmp_df.loc[:,['idx','origin','result']]\n",
    "    def spacing(input_) :\n",
    "        result = \"\"\n",
    "        tmp = input_.split('+')\n",
    "\n",
    "        for t in tmp :\n",
    "            result += t.split('/')[0] + ' '\n",
    "\n",
    "        return result[:-1]\n",
    "    \n",
    "    tmp_df['sp_res'] = tmp_df.result.apply(spacing)\n",
    "    tmp_df['CV'] = tmp_df.sp_res.str.findall(r'[ㄱ-ㅎ|ㅏ-ㅣ]+')\n",
    "    \n",
    "    def CVcount(input_) :\n",
    "        return len(input_)\n",
    "    \n",
    "    tmp_df['CV_len'] = tmp_df.CV.apply(CVcount)\n",
    "    spacing_df = tmp_df[tmp_df.CV_len == 0]\n",
    "    spacing_df = spacing_df.loc[:,['idx','origin','result','sp_res']]\n",
    "    \n",
    "    spacing_df.to_csv(output_,index=False)"
   ]
  },
  {
   "cell_type": "code",
   "execution_count": 90,
   "metadata": {},
   "outputs": [
    {
     "name": "stderr",
     "output_type": "stream",
     "text": [
      "C:\\dev\\Anaconda3\\lib\\site-packages\\numpy\\lib\\arraysetops.py:569: FutureWarning: elementwise comparison failed; returning scalar instead, but in the future will perform elementwise comparison\n",
      "  mask |= (ar1 == a)\n"
     ]
    }
   ],
   "source": [
    "conv2spacingData('data/sejong_corpus/sejong_corpus.csv')"
   ]
  },
  {
   "cell_type": "code",
   "execution_count": 63,
   "metadata": {},
   "outputs": [],
   "source": []
  }
 ],
 "metadata": {
  "kernelspec": {
   "display_name": "Python 3",
   "language": "python",
   "name": "python3"
  },
  "language_info": {
   "codemirror_mode": {
    "name": "ipython",
    "version": 3
   },
   "file_extension": ".py",
   "mimetype": "text/x-python",
   "name": "python",
   "nbconvert_exporter": "python",
   "pygments_lexer": "ipython3",
   "version": "3.7.4"
  }
 },
 "nbformat": 4,
 "nbformat_minor": 2
}
