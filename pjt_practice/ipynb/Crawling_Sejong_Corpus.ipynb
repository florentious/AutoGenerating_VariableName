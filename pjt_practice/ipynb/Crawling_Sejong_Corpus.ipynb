{
 "cells": [
  {
   "cell_type": "code",
   "execution_count": 90,
   "metadata": {},
   "outputs": [],
   "source": [
    "from selenium import webdriver\n",
    "\n",
    "import os\n",
    "import numpy as np\n",
    "import pandas as pd\n",
    "import time\n",
    "\n",
    "import urllib.request\n",
    "\n",
    "from bs4 import BeautifulSoup\n",
    "\n"
   ]
  },
  {
   "cell_type": "code",
   "execution_count": null,
   "metadata": {},
   "outputs": [],
   "source": []
  },
  {
   "cell_type": "code",
   "execution_count": 100,
   "metadata": {},
   "outputs": [],
   "source": [
    "chromedriver_dir = 'C:/dev/driver/chromedriver.exe'\n",
    "\n",
    "driver = webdriver.Chrome(chromedriver_dir)\n",
    "\n",
    "driver.get('https://ithub.korean.go.kr/user/total/database/corpusManager.do')\n",
    "\n",
    "check_login()\n",
    "\n",
    "driver.get('https://ithub.korean.go.kr/user/total/database/corpusManager.do')"
   ]
  },
  {
   "cell_type": "code",
   "execution_count": 101,
   "metadata": {},
   "outputs": [],
   "source": [
    "cur_no = int(driver.find_element_by_xpath(\"//div[@id='corpusList']/div[@class='result_wrap']/table[@class='tbl_list']/tbody/tr/td\").text)"
   ]
  },
  {
   "cell_type": "code",
   "execution_count": 102,
   "metadata": {},
   "outputs": [],
   "source": [
    "# index_first click\n",
    "driver.find_element_by_xpath(\"//div[@id='corpusList']/div[@class='result_wrap']/table[@class='tbl_list']/tbody/tr/td[@class='lf']/a\").click()"
   ]
  },
  {
   "cell_type": "code",
   "execution_count": 109,
   "metadata": {},
   "outputs": [],
   "source": [
    "try : \n",
    "    ch_box = driver.find_element_by_xpath(\"//input[@name='posFileSeq']\")\n",
    "    ch_box.click()\n",
    "    \n",
    "    driver.find_element_by_xpath(\"//label[@for='posFileSeq']/following-sibling::a\").click()\n",
    "    \n",
    "    time.sleep(1)\n",
    "    driver.find_element_by_xpath(\"//input[@id='agreementYn']\").click()\n",
    "    driver.find_element_by_xpath(\"//div[@id='agreementDownloadLayer']/div[@class='c_t mt15']/a\").click()\n",
    "    \n",
    "except :\n",
    "    print(\"Don't have pos\")\n",
    "finally :\n",
    "    driver.find_element_by_xpath(\"//div[@id='corpusSubList']/div/div[@class='fl']/a/following-sibling::a/following-sibling::a\").click()"
   ]
  },
  {
   "cell_type": "code",
   "execution_count": 81,
   "metadata": {},
   "outputs": [],
   "source": [
    "btn = driver.find_element_by_xpath(\"//label[@for='posFileSeq']/following-sibling::a\")\n",
    "btn.click()"
   ]
  },
  {
   "cell_type": "code",
   "execution_count": 82,
   "metadata": {},
   "outputs": [],
   "source": [
    "driver.find_element_by_xpath(\"//input[@id='agreementYn']\").click()"
   ]
  },
  {
   "cell_type": "code",
   "execution_count": 84,
   "metadata": {},
   "outputs": [],
   "source": [
    "driver.find_element_by_xpath(\"//div[@id='agreementDownloadLayer']/div[@class='c_t mt15']/a\").click()"
   ]
  },
  {
   "cell_type": "code",
   "execution_count": 85,
   "metadata": {},
   "outputs": [],
   "source": [
    "driver.find_element_by_xpath(\"//div[@id='corpusSubList']/div/div[@class='fl']/a/following-sibling::a/following-sibling::a\").click()"
   ]
  },
  {
   "cell_type": "code",
   "execution_count": 25,
   "metadata": {},
   "outputs": [],
   "source": [
    "def check_login() : \n",
    "    tmp_header = driver.find_element_by_xpath(\"//div[@id='header']/div[@class='top_menu']/ul/li\")\n",
    "\n",
    "    id_ = 'florentious09'\n",
    "    password_ = 'rnseks01!'\n",
    "\n",
    "    # need to log-in\n",
    "    if tmp_header.text == '들어가기' :\n",
    "        tmp_header.click()\n",
    "\n",
    "        login_id = driver.find_element_by_xpath(\"//input[@id='loginId']\")\n",
    "        login_id.clear()\n",
    "        login_id.send_keys(id_)\n",
    "\n",
    "        login_id = driver.find_element_by_xpath(\"//input[@id='password']\")\n",
    "        login_id.clear()\n",
    "        login_id.send_keys(password_)\n",
    "\n",
    "        driver.find_element_by_xpath(\"//div[@class='t_c mt30']/a\").click()"
   ]
  },
  {
   "cell_type": "code",
   "execution_count": 26,
   "metadata": {},
   "outputs": [],
   "source": [
    "check_login()"
   ]
  },
  {
   "cell_type": "code",
   "execution_count": 18,
   "metadata": {},
   "outputs": [],
   "source": [
    "tmp_header.click()"
   ]
  },
  {
   "cell_type": "code",
   "execution_count": 21,
   "metadata": {},
   "outputs": [],
   "source": [
    "login_id = driver.find_element_by_xpath(\"//input[@id='loginId']\")\n",
    "login_id.clear()\n",
    "login_id.send_keys('florentious09')\n",
    "\n",
    "login_id = driver.find_element_by_xpath(\"//input[@id='password']\")\n",
    "login_id.clear()\n",
    "login_id.send_keys('theflo09!@#')"
   ]
  },
  {
   "cell_type": "code",
   "execution_count": 22,
   "metadata": {},
   "outputs": [],
   "source": [
    "driver.find_element_by_xpath(\"//div[@class='t_c mt30']/a\").click()"
   ]
  },
  {
   "cell_type": "code",
   "execution_count": null,
   "metadata": {},
   "outputs": [],
   "source": []
  },
  {
   "cell_type": "code",
   "execution_count": 17,
   "metadata": {},
   "outputs": [
    {
     "data": {
      "text/plain": [
       "'들어가기'"
      ]
     },
     "execution_count": 17,
     "metadata": {},
     "output_type": "execute_result"
    }
   ],
   "source": [
    "tmp_header.text"
   ]
  }
 ],
 "metadata": {
  "kernelspec": {
   "display_name": "Python 3",
   "language": "python",
   "name": "python3"
  },
  "language_info": {
   "codemirror_mode": {
    "name": "ipython",
    "version": 3
   },
   "file_extension": ".py",
   "mimetype": "text/x-python",
   "name": "python",
   "nbconvert_exporter": "python",
   "pygments_lexer": "ipython3",
   "version": "3.7.4"
  }
 },
 "nbformat": 4,
 "nbformat_minor": 2
}
