{
 "cells": [
  {
   "cell_type": "code",
   "execution_count": 1,
   "metadata": {},
   "outputs": [],
   "source": [
    "def getDataDict(path='c:/dev/dataset/convert/행정표준용어1.xls') :\n",
    "    import pandas as pd\n",
    "    data = pd.read_excel(path, header=1, index_col=0)\n",
    "    return data.set_index('용어명')['영문약어명'].to_dict() "
   ]
  },
  {
   "cell_type": "code",
   "execution_count": 2,
   "metadata": {},
   "outputs": [],
   "source": [
    "def getData(path='c:/dev/dataset/convert/행정표준용어1.xls') :\n",
    "    import pandas as pd\n",
    "    return pd.read_excel(path, header=1, index_col=0)"
   ]
  },
  {
   "cell_type": "code",
   "execution_count": 3,
   "metadata": {},
   "outputs": [],
   "source": [
    "def getNouns(input_) :\n",
    "    from konlpy.tag import Okt\n",
    "    tl = Okt().pos(input_)\n",
    "    rl = []\n",
    "    tmp =''\n",
    "\n",
    "    for idx in range(len(tl)) :    \n",
    "        if tl[idx][1] == 'Noun' :\n",
    "            if tmp != '' :\n",
    "                rl.append(tmp)\n",
    "            rl.append(tl[idx][0])\n",
    "            tmp = ''\n",
    "        else :\n",
    "            tmp += str(tl[idx][0])\n",
    "    \n",
    "    if tmp != '' :\n",
    "        rl.append(tmp)\n",
    "            \n",
    "    return rl"
   ]
  },
  {
   "cell_type": "code",
   "execution_count": 4,
   "metadata": {},
   "outputs": [],
   "source": [
    "def convert_v1(input_) :\n",
    "    from konlpy.tag import Okt\n",
    "    data = getData()\n",
    "    list_ = getNouns(input_)\n",
    "    result = ''\n",
    "    for txt in list_ :\n",
    "        if data[data['용어명'] == txt].empty :\n",
    "            tmp = changeAbrv_v1(translate_by_papago_api(txt))\n",
    "            result += tmp + '_'\n",
    "        else :\n",
    "            result += data[data['용어명'] == txt].iat[0,3] + '_'\n",
    "    \n",
    "    if result[-1] == '_' :\n",
    "        result = result[:-1]\n",
    "        \n",
    "    return result\n",
    "        "
   ]
  },
  {
   "cell_type": "code",
   "execution_count": 5,
   "metadata": {},
   "outputs": [],
   "source": [
    "def convert_v2(input_) :\n",
    "    data = getDataDict()\n",
    "    list_ = getNouns(input_)\n",
    "    result = ''\n",
    "    for txt in list_ :\n",
    "        if not txt in data :\n",
    "            tmp,data = changeAbrv_v2(translate_by_papago_api(txt),txt,data)\n",
    "            result += tmp + '_'\n",
    "        else :\n",
    "            result += data[txt] + '_'\n",
    "    \n",
    "    if result[-1] == '_' :\n",
    "        result = result[:-1]\n",
    "        \n",
    "    return result\n",
    "        "
   ]
  },
  {
   "cell_type": "code",
   "execution_count": 6,
   "metadata": {},
   "outputs": [],
   "source": [
    "def sumStrList(l) :\n",
    "    res = ''\n",
    "    for txt in l :\n",
    "        res += txt\n",
    "    return res"
   ]
  },
  {
   "cell_type": "code",
   "execution_count": 7,
   "metadata": {},
   "outputs": [],
   "source": [
    "def convert_v3(input_,data) :\n",
    "    list_ = getNouns(input_)\n",
    "    result = ''\n",
    "    if input_ != '' :\n",
    "        for idx in range(len(list_),0,-1) :\n",
    "            tmpTxt = sumStrList(list_[:idx])\n",
    "            if tmpTxt in data.keys() :\n",
    "                result += data[tmpTxt] + '_'\n",
    "                if idx != len(list_) :\n",
    "                    resTmp,data = convert_v3(sumStrList(list_[idx:]),data)\n",
    "                    result += resTmp\n",
    "                break\n",
    "            if idx == 1 :\n",
    "                tmp,data = changeAbrv_v2(translate_by_papago_api(tmpTxt),tmpTxt,data)\n",
    "                result += tmp + '_'\n",
    "                if idx != len(list_) :\n",
    "                    resTmp,data = convert_v3(sumStrList(list_[idx:]),data)\n",
    "                    result += resTmp\n",
    "                    \n",
    "                    \n",
    "        if result[-1] == '_' :\n",
    "            result = result[:-1]\n",
    "    \n",
    "    return result, data\n",
    "    \n",
    "    "
   ]
  },
  {
   "cell_type": "code",
   "execution_count": 4,
   "metadata": {},
   "outputs": [],
   "source": [
    "def convert_v4(input_,inputDict,defDict,newDict) :\n",
    "    list_ = getNouns(input_)\n",
    "    result = ''\n",
    "    if input_ != '' :\n",
    "        for idx in range(len(list_),0,-1) :\n",
    "            tmpTxt = sumStrList(list_[:idx])\n",
    "            if tmpTxt in inputDict.keys() :\n",
    "                result += inputDict[tmpTxt] + '_'\n",
    "                if idx != len(list_) :\n",
    "                    resTmp,inputDict,defDict,newDict = convert_v4(sumStrList(list_[idx:]),inputDict,\n",
    "                                                                  defDict,newDict)\n",
    "                    result += resTmp\n",
    "                break\n",
    "            elif tmpTxt in defDict.keys() :\n",
    "                result += defDict[tmpTxt] + '_'\n",
    "                if idx != len(list_) :\n",
    "                    resTmp,inputDict,defDict,newDict = convert_v4(sumStrList(list_[idx:]),inputDict,\n",
    "                                                                  defDict,newDict)\n",
    "                    result += resTmp\n",
    "                break\n",
    "            elif tmpTxt in newDict.keys() :\n",
    "                result += newDict[tmpTxt] + '_'\n",
    "                if idx != len(list_) :\n",
    "                    resTmp,inputDict,defDict,newDict = convert_v4(sumStrList(list_[idx:]),inputDict,\n",
    "                                                                  defDict,newDict)\n",
    "                    result += resTmp\n",
    "                break\n",
    "\n",
    "            if idx == 1 :\n",
    "                tmp,newDict = changeAbrv_v2(translate_by_papago_api(tmpTxt),tmpTxt,newDict)\n",
    "                result += tmp + '_'\n",
    "                if idx != len(list_) :\n",
    "                    resTmp,inputDict,defDict,newDict = convert_v4(sumStrList(list_[idx:]),inputDict,\n",
    "                                                                  defDict,newDict)\n",
    "                    result += resTmp\n",
    "                    \n",
    "                    \n",
    "        if result[-1] == '_' :\n",
    "            result = result[:-1]\n",
    "    \n",
    "    return result, inputDict, defDict, newDict"
   ]
  },
  {
   "cell_type": "code",
   "execution_count": 9,
   "metadata": {},
   "outputs": [],
   "source": [
    "def changeAbrv_v1(text) :\n",
    "    import re\n",
    "\n",
    "    v = ['a','e','i','o','u']\n",
    "    tmp = text.lower()[1:]\n",
    "\n",
    "    for ch in v :\n",
    "        tmp = tmp.replace(ch,'')\n",
    "\n",
    "    for ch in tmp:\n",
    "        dup = ch+ch\n",
    "        tmp = re.sub(dup, ch, tmp)\n",
    "    \n",
    "    tmp = re.sub(' ','',tmp)\n",
    "    \n",
    "    return (text[0].lower() + tmp).upper()"
   ]
  },
  {
   "cell_type": "code",
   "execution_count": 5,
   "metadata": {},
   "outputs": [],
   "source": [
    "def changeAbrv_v2(text,origin,dict_) :\n",
    "    import re\n",
    "\n",
    "    v = ['a','e','i','o','u']\n",
    "    tmp = text.lower()[1:]\n",
    "\n",
    "    for ch in v :\n",
    "        tmp = tmp.replace(ch,'')\n",
    "\n",
    "    for ch in tmp:\n",
    "        dup = ch+ch\n",
    "        tmp = re.sub(dup, ch, tmp)\n",
    "    \n",
    "    tmp = re.sub(' ','',tmp)\n",
    "    tmp = (text[0].lower() + tmp).upper()\n",
    "    \n",
    "    result = ''\n",
    "    isFound = False\n",
    "    \n",
    "    for idx in range(3,len(tmp)) :\n",
    "        if not tmp[:idx] in dict_.values() :\n",
    "            result = tmp[:idx]\n",
    "            isFound = True\n",
    "            break\n",
    "    \n",
    "    # 마지막까지 단어가 있으면 '_' 추가\n",
    "    if not isFound :\n",
    "        if not tmp in dict_.values() :\n",
    "            result = tmp\n",
    "        else :\n",
    "            result = tmp + '_'\n",
    "            \n",
    "    # dict updated\n",
    "    dict_[origin] = result\n",
    "    \n",
    "    return result,dict_"
   ]
  },
  {
   "cell_type": "code",
   "execution_count": 6,
   "metadata": {},
   "outputs": [],
   "source": [
    "def translate_by_selenium(text) :\n",
    "    from selenium import webdriver\n",
    "    import urllib.request\n",
    "    import requests\n",
    "    import time\n",
    "    from bs4 import BeautifulSoup\n",
    "    \n",
    "    chromedriver_dir = 'C:\\dev\\driver\\chromedriver.exe'\n",
    "    driver = webdriver.Chrome(chromedriver_dir)\n",
    "\n",
    "    driver.get(\"https://translate.google.com/\")\n",
    "\n",
    "    driver.find_element_by_id('sugg-item-en').click()\n",
    "    driver.find_element_by_id('sugg-item-ko').click()\n",
    "\n",
    "    driver.find_element_by_id('source').send_keys(text)\n",
    "\n",
    "    time.sleep(1)\n",
    "    source = driver.page_source\n",
    "    soupData = BeautifulSoup(source,'html.parser')\n",
    "    \n",
    "    driver.close()\n",
    "\n",
    "    return soupData.find('span',class_='tlid-translation translation').text"
   ]
  },
  {
   "cell_type": "code",
   "execution_count": 7,
   "metadata": {},
   "outputs": [],
   "source": [
    "def translate_by_papago_api(text) :\n",
    "    import os\n",
    "    import sys\n",
    "    import urllib.request\n",
    "    import json\n",
    "    \n",
    "    client_id = \"bONH_8tRvIGnJbn7o966\"\n",
    "    client_secret = \"zuoA87y5rv\"\n",
    "    \n",
    "    output_ = ''\n",
    "    encText = urllib.parse.quote(text)\n",
    "    data = \"source=ko&target=en&text=\" + encText\n",
    "    url = \"https://openapi.naver.com/v1/papago/n2mt\"\n",
    "    request = urllib.request.Request(url)\n",
    "    request.add_header(\"X-Naver-Client-Id\",client_id)\n",
    "    request.add_header(\"X-Naver-Client-Secret\",client_secret)\n",
    "    response = urllib.request.urlopen(request, data=data.encode(\"utf-8\"))\n",
    "    rescode = response.getcode()\n",
    "    if(rescode==200):\n",
    "        response_body = response.read()\n",
    "        str2dict = json.loads(response_body.decode('utf-8'))\n",
    "        output_ = str2dict['message']['result']['translatedText']\n",
    "    else:\n",
    "        output_ = \"Error Code:\" +rescode\n",
    "\n",
    "    return output_\n",
    "    "
   ]
  },
  {
   "cell_type": "code",
   "execution_count": 130,
   "metadata": {},
   "outputs": [
    {
     "data": {
      "text/plain": [
       "'Submarine'"
      ]
     },
     "execution_count": 130,
     "metadata": {},
     "output_type": "execute_result"
    }
   ],
   "source": [
    "translate_by_papago_api('잠수함')"
   ]
  },
  {
   "cell_type": "code",
   "execution_count": 134,
   "metadata": {},
   "outputs": [
    {
     "data": {
      "text/plain": [
       "'submarine'"
      ]
     },
     "execution_count": 134,
     "metadata": {},
     "output_type": "execute_result"
    }
   ],
   "source": [
    "translate_by_selenium('잠수함')"
   ]
  },
  {
   "cell_type": "code",
   "execution_count": 74,
   "metadata": {},
   "outputs": [
    {
     "data": {
      "text/plain": [
       "'ANDRD_VACIN_DEVLOP_DEPT'"
      ]
     },
     "execution_count": 74,
     "metadata": {},
     "output_type": "execute_result"
    }
   ],
   "source": [
    "test1 = convert_v1('안드로이드백신개발부서')\n",
    "test1"
   ]
  },
  {
   "cell_type": "code",
   "execution_count": 166,
   "metadata": {},
   "outputs": [
    {
     "data": {
      "text/plain": [
       "'AND_VACIN_DEVLOP_DEPT'"
      ]
     },
     "execution_count": 166,
     "metadata": {},
     "output_type": "execute_result"
    }
   ],
   "source": [
    "test = convert_v2('안드로이드백신개발부서')\n",
    "test"
   ]
  },
  {
   "cell_type": "code",
   "execution_count": 137,
   "metadata": {},
   "outputs": [
    {
     "data": {
      "text/plain": [
       "[('24시간', 'Number'), ('전적하목록제출규정', 'Foreign')]"
      ]
     },
     "execution_count": 137,
     "metadata": {},
     "output_type": "execute_result"
    }
   ],
   "source": [
    "from konlpy.tag import Okt\n",
    "Okt().pos('24시간전적하목록제출규정')"
   ]
  },
  {
   "cell_type": "code",
   "execution_count": 138,
   "metadata": {},
   "outputs": [
    {
     "data": {
      "text/plain": [
       "[('안드로이드', 'Noun'),\n",
       " ('백', 'Modifier'),\n",
       " ('신', 'Modifier'),\n",
       " ('개발', 'Noun'),\n",
       " ('부서', 'Noun')]"
      ]
     },
     "execution_count": 138,
     "metadata": {},
     "output_type": "execute_result"
    }
   ],
   "source": [
    "Okt().pos('안드로이드백신개발부서')"
   ]
  },
  {
   "cell_type": "code",
   "execution_count": 139,
   "metadata": {},
   "outputs": [
    {
     "data": {
      "text/plain": [
       "[('트위터', 'Noun'), ('백신', 'Noun'), ('개발', 'Noun'), ('부서', 'Noun')]"
      ]
     },
     "execution_count": 139,
     "metadata": {},
     "output_type": "execute_result"
    }
   ],
   "source": [
    "Okt().pos('트위터백신개발부서')"
   ]
  },
  {
   "cell_type": "code",
   "execution_count": 85,
   "metadata": {},
   "outputs": [
    {
     "data": {
      "text/plain": [
       "'24HAMR'"
      ]
     },
     "execution_count": 85,
     "metadata": {},
     "output_type": "execute_result"
    }
   ],
   "source": [
    "test = '24시간전적하목록제출규정'\n",
    "\n",
    "data = getDataDict()\n",
    "tmp,data = convert_v3(test, data)\n",
    "tmp"
   ]
  },
  {
   "cell_type": "code",
   "execution_count": 8,
   "metadata": {},
   "outputs": [],
   "source": [
    "def outputDict(dict_,path) :\n",
    "    import pandas as pd\n",
    "    \n",
    "    tmp = pd.DataFrame(list(dict_.items()),columns=['input','output'])\n",
    "    tmp.to_excel(path,index=False)\n"
   ]
  },
  {
   "cell_type": "code",
   "execution_count": 14,
   "metadata": {},
   "outputs": [],
   "source": [
    "def convertFile_v1(input_path,output_path='output') :\n",
    "    import pandas as pd\n",
    "    \n",
    "    input_ = pd.read_excel(input_path)\n",
    "    if output_path[input_path.rfind('/'):].find('.') == -1 :\n",
    "        output_path += input_path[input_path.rfind('/'):]\n",
    "    \n",
    "    dict_ = getDataDict()\n",
    "    \n",
    "    for idx in input_['output'].isnull().index :\n",
    "        tmp, dict_ = convert_v3(input_.at[idx,'input'],dict_)\n",
    "        input_.output[idx] = tmp\n",
    "        \n",
    "    input_.to_excel(output_path,index=False)\n",
    "    outputDict(dict_,output_path[:output_path.rfind('/')]+'/dict.xlsx')    \n",
    "    "
   ]
  },
  {
   "cell_type": "code",
   "execution_count": 9,
   "metadata": {},
   "outputs": [],
   "source": [
    "def convertFile_v2(inputDict, input_path,output_path='output') :\n",
    "    import pandas as pd\n",
    "    \n",
    "    input_ = pd.read_excel(input_path)\n",
    "    if output_path[input_path.rfind('/'):].find('.') == -1 :\n",
    "        output_path += input_path[input_path.rfind('/'):]\n",
    "\n",
    "    defDict = getDataDict()\n",
    "    newDict = {}\n",
    "    \n",
    "    for idx in input_['output'].isnull().index :\n",
    "        tmp, inputDict,defDict,newDict = convert_v4(input_.at[idx,'input'],inputDict,defDict,newDict)\n",
    "        input_.output[idx] = tmp\n",
    "        \n",
    "    input_.to_excel(output_path,index=False)\n",
    "    outputDict(newDict,output_path[:output_path.rfind('/')]+'/newDict.xlsx')    \n",
    "    "
   ]
  },
  {
   "cell_type": "code",
   "execution_count": 112,
   "metadata": {},
   "outputs": [
    {
     "name": "stderr",
     "output_type": "stream",
     "text": [
      "C:\\dev\\Anaconda3\\lib\\site-packages\\ipykernel_launcher.py:12: SettingWithCopyWarning: \n",
      "A value is trying to be set on a copy of a slice from a DataFrame\n",
      "\n",
      "See the caveats in the documentation: http://pandas.pydata.org/pandas-docs/stable/user_guide/indexing.html#returning-a-view-versus-a-copy\n",
      "  if sys.path[0] == '':\n"
     ]
    }
   ],
   "source": [
    "import pandas as pd\n",
    "import numpy as np\n",
    "input_path = 'input/test.xlsx'\n",
    "\n",
    "convertFile_v1(input_path)"
   ]
  },
  {
   "cell_type": "code",
   "execution_count": 10,
   "metadata": {},
   "outputs": [
    {
     "ename": "NameError",
     "evalue": "name 'sumStrList' is not defined",
     "output_type": "error",
     "traceback": [
      "\u001b[1;31m---------------------------------------------------------------------------\u001b[0m",
      "\u001b[1;31mNameError\u001b[0m                                 Traceback (most recent call last)",
      "\u001b[1;32m<ipython-input-10-d5f80c66a9b2>\u001b[0m in \u001b[0;36m<module>\u001b[1;34m\u001b[0m\n\u001b[0;32m      4\u001b[0m \u001b[1;33m\u001b[0m\u001b[0m\n\u001b[0;32m      5\u001b[0m \u001b[0minputDict\u001b[0m \u001b[1;33m=\u001b[0m \u001b[1;33m{\u001b[0m\u001b[1;33m}\u001b[0m\u001b[1;33m\u001b[0m\u001b[1;33m\u001b[0m\u001b[0m\n\u001b[1;32m----> 6\u001b[1;33m \u001b[0mconvertFile_v2\u001b[0m\u001b[1;33m(\u001b[0m\u001b[0minputDict\u001b[0m\u001b[1;33m,\u001b[0m \u001b[0minput_path\u001b[0m\u001b[1;33m)\u001b[0m\u001b[1;33m\u001b[0m\u001b[1;33m\u001b[0m\u001b[0m\n\u001b[0m",
      "\u001b[1;32m<ipython-input-9-affff351dca4>\u001b[0m in \u001b[0;36mconvertFile_v2\u001b[1;34m(inputDict, input_path, output_path)\u001b[0m\n\u001b[0;32m     10\u001b[0m \u001b[1;33m\u001b[0m\u001b[0m\n\u001b[0;32m     11\u001b[0m     \u001b[1;32mfor\u001b[0m \u001b[0midx\u001b[0m \u001b[1;32min\u001b[0m \u001b[0minput_\u001b[0m\u001b[1;33m[\u001b[0m\u001b[1;34m'output'\u001b[0m\u001b[1;33m]\u001b[0m\u001b[1;33m.\u001b[0m\u001b[0misnull\u001b[0m\u001b[1;33m(\u001b[0m\u001b[1;33m)\u001b[0m\u001b[1;33m.\u001b[0m\u001b[0mindex\u001b[0m \u001b[1;33m:\u001b[0m\u001b[1;33m\u001b[0m\u001b[1;33m\u001b[0m\u001b[0m\n\u001b[1;32m---> 12\u001b[1;33m         \u001b[0mtmp\u001b[0m\u001b[1;33m,\u001b[0m \u001b[0minputDict\u001b[0m\u001b[1;33m,\u001b[0m\u001b[0mdefDict\u001b[0m\u001b[1;33m,\u001b[0m\u001b[0mnewDict\u001b[0m \u001b[1;33m=\u001b[0m \u001b[0mconvert_v4\u001b[0m\u001b[1;33m(\u001b[0m\u001b[0minput_\u001b[0m\u001b[1;33m.\u001b[0m\u001b[0mat\u001b[0m\u001b[1;33m[\u001b[0m\u001b[0midx\u001b[0m\u001b[1;33m,\u001b[0m\u001b[1;34m'input'\u001b[0m\u001b[1;33m]\u001b[0m\u001b[1;33m,\u001b[0m\u001b[0minputDict\u001b[0m\u001b[1;33m,\u001b[0m\u001b[0mdefDict\u001b[0m\u001b[1;33m,\u001b[0m\u001b[0mnewDict\u001b[0m\u001b[1;33m)\u001b[0m\u001b[1;33m\u001b[0m\u001b[1;33m\u001b[0m\u001b[0m\n\u001b[0m\u001b[0;32m     13\u001b[0m         \u001b[0minput_\u001b[0m\u001b[1;33m.\u001b[0m\u001b[0moutput\u001b[0m\u001b[1;33m[\u001b[0m\u001b[0midx\u001b[0m\u001b[1;33m]\u001b[0m \u001b[1;33m=\u001b[0m \u001b[0mtmp\u001b[0m\u001b[1;33m\u001b[0m\u001b[1;33m\u001b[0m\u001b[0m\n\u001b[0;32m     14\u001b[0m \u001b[1;33m\u001b[0m\u001b[0m\n",
      "\u001b[1;32m<ipython-input-4-ee1f86680527>\u001b[0m in \u001b[0;36mconvert_v4\u001b[1;34m(input_, inputDict, defDict, newDict)\u001b[0m\n\u001b[0;32m      4\u001b[0m     \u001b[1;32mif\u001b[0m \u001b[0minput_\u001b[0m \u001b[1;33m!=\u001b[0m \u001b[1;34m''\u001b[0m \u001b[1;33m:\u001b[0m\u001b[1;33m\u001b[0m\u001b[1;33m\u001b[0m\u001b[0m\n\u001b[0;32m      5\u001b[0m         \u001b[1;32mfor\u001b[0m \u001b[0midx\u001b[0m \u001b[1;32min\u001b[0m \u001b[0mrange\u001b[0m\u001b[1;33m(\u001b[0m\u001b[0mlen\u001b[0m\u001b[1;33m(\u001b[0m\u001b[0mlist_\u001b[0m\u001b[1;33m)\u001b[0m\u001b[1;33m,\u001b[0m\u001b[1;36m0\u001b[0m\u001b[1;33m,\u001b[0m\u001b[1;33m-\u001b[0m\u001b[1;36m1\u001b[0m\u001b[1;33m)\u001b[0m \u001b[1;33m:\u001b[0m\u001b[1;33m\u001b[0m\u001b[1;33m\u001b[0m\u001b[0m\n\u001b[1;32m----> 6\u001b[1;33m             \u001b[0mtmpTxt\u001b[0m \u001b[1;33m=\u001b[0m \u001b[0msumStrList\u001b[0m\u001b[1;33m(\u001b[0m\u001b[0mlist_\u001b[0m\u001b[1;33m[\u001b[0m\u001b[1;33m:\u001b[0m\u001b[0midx\u001b[0m\u001b[1;33m]\u001b[0m\u001b[1;33m)\u001b[0m\u001b[1;33m\u001b[0m\u001b[1;33m\u001b[0m\u001b[0m\n\u001b[0m\u001b[0;32m      7\u001b[0m             \u001b[1;32mif\u001b[0m \u001b[0mtmpTxt\u001b[0m \u001b[1;32min\u001b[0m \u001b[0minputDict\u001b[0m\u001b[1;33m.\u001b[0m\u001b[0mkeys\u001b[0m\u001b[1;33m(\u001b[0m\u001b[1;33m)\u001b[0m \u001b[1;33m:\u001b[0m\u001b[1;33m\u001b[0m\u001b[1;33m\u001b[0m\u001b[0m\n\u001b[0;32m      8\u001b[0m                 \u001b[0mresult\u001b[0m \u001b[1;33m+=\u001b[0m \u001b[0minputDict\u001b[0m\u001b[1;33m[\u001b[0m\u001b[0mtmpTxt\u001b[0m\u001b[1;33m]\u001b[0m \u001b[1;33m+\u001b[0m \u001b[1;34m'_'\u001b[0m\u001b[1;33m\u001b[0m\u001b[1;33m\u001b[0m\u001b[0m\n",
      "\u001b[1;31mNameError\u001b[0m: name 'sumStrList' is not defined"
     ]
    }
   ],
   "source": [
    "import pandas as pd\n",
    "import numpy as np\n",
    "input_path = 'input/test.xlsx'\n",
    "\n",
    "inputDict = {}\n",
    "convertFile_v2(inputDict, input_path)"
   ]
  }
 ],
 "metadata": {
  "kernelspec": {
   "display_name": "Python 3",
   "language": "python",
   "name": "python3"
  },
  "language_info": {
   "codemirror_mode": {
    "name": "ipython",
    "version": 3
   },
   "file_extension": ".py",
   "mimetype": "text/x-python",
   "name": "python",
   "nbconvert_exporter": "python",
   "pygments_lexer": "ipython3",
   "version": "3.7.4"
  }
 },
 "nbformat": 4,
 "nbformat_minor": 2
}
