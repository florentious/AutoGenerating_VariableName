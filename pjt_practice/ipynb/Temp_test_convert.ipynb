{
 "cells": [
  {
   "cell_type": "code",
   "execution_count": 6,
   "metadata": {},
   "outputs": [],
   "source": [
    "import os\n",
    "from bs4 import BeautifulSoup\n",
    "\n",
    "input_path = 'data/sejong_corpus/test/'\n"
   ]
  },
  {
   "cell_type": "code",
   "execution_count": 4,
   "metadata": {},
   "outputs": [],
   "source": [
    "dir_list =  [txt for txt in os.listdir(input_path) if txt.endswith(\".txt\")]\n",
    "\n",
    "for txt in dir_list :\n",
    "    with open(input_path+txt, 'r',encoding='utf16') as f:\n",
    "        tmp = f.read()"
   ]
  },
  {
   "cell_type": "code",
   "execution_count": 8,
   "metadata": {},
   "outputs": [],
   "source": [
    "soupData = BeautifulSoup(tmp,'html.parser')\n",
    "\n",
    "p_list = soupData.findAll('p')"
   ]
  },
  {
   "cell_type": "code",
   "execution_count": 24,
   "metadata": {},
   "outputs": [],
   "source": [
    "import re\n",
    "\n",
    "seq = []\n",
    "for idx in range(len(p_list)) :\n",
    "    seq.append(re.sub(r'[a-zA-Z()†]','',p_list[idx].text))"
   ]
  },
  {
   "cell_type": "code",
   "execution_count": 25,
   "metadata": {},
   "outputs": [],
   "source": [
    "lines = []\n",
    "for str_ in seq :\n",
    "    lines.extend(str_.split('.'))"
   ]
  },
  {
   "cell_type": "code",
   "execution_count": 29,
   "metadata": {},
   "outputs": [],
   "source": [
    "with open(input_path+txt.split('.')[0]+'_conv.'+txt.split('.')[1], 'w', encoding='utf8') as f :\n",
    "    f.write('\\n'.join(lines))"
   ]
  },
  {
   "cell_type": "code",
   "execution_count": null,
   "metadata": {},
   "outputs": [],
   "source": []
  },
  {
   "cell_type": "code",
   "execution_count": 1,
   "metadata": {},
   "outputs": [
    {
     "name": "stderr",
     "output_type": "stream",
     "text": [
      "C:\\dev\\Anaconda3\\lib\\site-packages\\numpy\\_distributor_init.py:32: UserWarning: loaded more than 1 DLL from .libs:\n",
      "C:\\dev\\Anaconda3\\lib\\site-packages\\numpy\\.libs\\libopenblas.PYQHXLVVQ7VESDPUVUADXEVJOBGHJPAY.gfortran-win_amd64.dll\n",
      "C:\\dev\\Anaconda3\\lib\\site-packages\\numpy\\.libs\\libopenblas.TXA6YQSD3GCQQC22GEQ54J2UDCXDXHWN.gfortran-win_amd64.dll\n",
      "  stacklevel=1)\n"
     ]
    }
   ],
   "source": [
    "import pandas as pd\n",
    "\n",
    "path = 'C:/dev/workspace/AutoGenerating_VariableName/pjt_practice/ipynb/data/sejong_corpus/spacing.csv'\n",
    "\n",
    "data = pd.read_csv(path)"
   ]
  },
  {
   "cell_type": "code",
   "execution_count": 2,
   "metadata": {},
   "outputs": [
    {
     "data": {
      "text/html": [
       "<div>\n",
       "<style scoped>\n",
       "    .dataframe tbody tr th:only-of-type {\n",
       "        vertical-align: middle;\n",
       "    }\n",
       "\n",
       "    .dataframe tbody tr th {\n",
       "        vertical-align: top;\n",
       "    }\n",
       "\n",
       "    .dataframe thead th {\n",
       "        text-align: right;\n",
       "    }\n",
       "</style>\n",
       "<table border=\"1\" class=\"dataframe\">\n",
       "  <thead>\n",
       "    <tr style=\"text-align: right;\">\n",
       "      <th></th>\n",
       "      <th>idx</th>\n",
       "      <th>origin</th>\n",
       "      <th>result</th>\n",
       "      <th>sp_res</th>\n",
       "    </tr>\n",
       "  </thead>\n",
       "  <tbody>\n",
       "    <tr>\n",
       "      <th>0</th>\n",
       "      <td>5CT_0013-0000030</td>\n",
       "      <td>뭐</td>\n",
       "      <td>뭐/NP</td>\n",
       "      <td>뭐</td>\n",
       "    </tr>\n",
       "    <tr>\n",
       "      <th>1</th>\n",
       "      <td>5CT_0013-0000040</td>\n",
       "      <td>타고</td>\n",
       "      <td>타/VV+고/EC</td>\n",
       "      <td>타 고</td>\n",
       "    </tr>\n",
       "    <tr>\n",
       "      <th>2</th>\n",
       "      <td>5CT_0013-0000130</td>\n",
       "      <td>지하철.</td>\n",
       "      <td>지하철/NNG+./SF</td>\n",
       "      <td>지하철 .</td>\n",
       "    </tr>\n",
       "    <tr>\n",
       "      <th>3</th>\n",
       "      <td>5CT_0013-0000180</td>\n",
       "      <td>기차?</td>\n",
       "      <td>기차/NNG+?/SF</td>\n",
       "      <td>기차 ?</td>\n",
       "    </tr>\n",
       "    <tr>\n",
       "      <th>4</th>\n",
       "      <td>5CT_0013-0000210</td>\n",
       "      <td>아침에</td>\n",
       "      <td>아침/NNG+에/JKB</td>\n",
       "      <td>아침 에</td>\n",
       "    </tr>\n",
       "    <tr>\n",
       "      <th>...</th>\n",
       "      <td>...</td>\n",
       "      <td>...</td>\n",
       "      <td>...</td>\n",
       "      <td>...</td>\n",
       "    </tr>\n",
       "    <tr>\n",
       "      <th>10771913</th>\n",
       "      <td>BTJO0447-00012391</td>\n",
       "      <td>널리</td>\n",
       "      <td>널리/MAG</td>\n",
       "      <td>널리</td>\n",
       "    </tr>\n",
       "    <tr>\n",
       "      <th>10771914</th>\n",
       "      <td>BTJO0447-00012392</td>\n",
       "      <td>보급되기를</td>\n",
       "      <td>보급/NNG + 되/XSV + 기/ETN + 를/JKO</td>\n",
       "      <td>보급  되  기  를</td>\n",
       "    </tr>\n",
       "    <tr>\n",
       "      <th>10771915</th>\n",
       "      <td>BTJO0447-00012393</td>\n",
       "      <td>바라마지</td>\n",
       "      <td>바라/VV + 아/EC + 말/VX + 지/EC</td>\n",
       "      <td>바라  아  말  지</td>\n",
       "    </tr>\n",
       "    <tr>\n",
       "      <th>10771916</th>\n",
       "      <td>BTJO0447-00012394</td>\n",
       "      <td>않는</td>\n",
       "      <td>않/VX + 는/ETM</td>\n",
       "      <td>않  는</td>\n",
       "    </tr>\n",
       "    <tr>\n",
       "      <th>10771917</th>\n",
       "      <td>BTJO0447-00012395</td>\n",
       "      <td>바이다.</td>\n",
       "      <td>바/NNB + 이/VCP + 다/EF + ./SF</td>\n",
       "      <td>바  이  다  .</td>\n",
       "    </tr>\n",
       "  </tbody>\n",
       "</table>\n",
       "<p>10771918 rows × 4 columns</p>\n",
       "</div>"
      ],
      "text/plain": [
       "                        idx origin                          result  \\\n",
       "0          5CT_0013-0000030      뭐                            뭐/NP   \n",
       "1          5CT_0013-0000040     타고                       타/VV+고/EC   \n",
       "2          5CT_0013-0000130   지하철.                    지하철/NNG+./SF   \n",
       "3          5CT_0013-0000180    기차?                     기차/NNG+?/SF   \n",
       "4          5CT_0013-0000210    아침에                    아침/NNG+에/JKB   \n",
       "...                     ...    ...                             ...   \n",
       "10771913  BTJO0447-00012391     널리                          널리/MAG   \n",
       "10771914  BTJO0447-00012392  보급되기를  보급/NNG + 되/XSV + 기/ETN + 를/JKO   \n",
       "10771915  BTJO0447-00012393   바라마지      바라/VV + 아/EC + 말/VX + 지/EC   \n",
       "10771916  BTJO0447-00012394     않는                    않/VX + 는/ETM   \n",
       "10771917  BTJO0447-00012395   바이다.     바/NNB + 이/VCP + 다/EF + ./SF   \n",
       "\n",
       "               sp_res  \n",
       "0                   뭐  \n",
       "1                 타 고  \n",
       "2               지하철 .  \n",
       "3                기차 ?  \n",
       "4                아침 에  \n",
       "...               ...  \n",
       "10771913           널리  \n",
       "10771914  보급  되  기  를  \n",
       "10771915  바라  아  말  지  \n",
       "10771916         않  는  \n",
       "10771917   바  이  다  .  \n",
       "\n",
       "[10771918 rows x 4 columns]"
      ]
     },
     "execution_count": 2,
     "metadata": {},
     "output_type": "execute_result"
    }
   ],
   "source": [
    "data"
   ]
  },
  {
   "cell_type": "code",
   "execution_count": 6,
   "metadata": {},
   "outputs": [],
   "source": [
    "newPath = 'C:/dev/workspace/AutoGenerating_VariableName/pjt_practice/ipynb/data/sejong_corpus/newDataset.txt'\n",
    "\n",
    "res = ''\n",
    "for txt in data.sp_res :\n",
    "    res += str(txt) + '\\n'\n",
    "\n",
    "with open(newPath,'w',encoding='utf8') as f :\n",
    "    f.write(res)"
   ]
  },
  {
   "cell_type": "code",
   "execution_count": 16,
   "metadata": {},
   "outputs": [
    {
     "data": {
      "text/plain": [
       "10771918"
      ]
     },
     "execution_count": 16,
     "metadata": {},
     "output_type": "execute_result"
    }
   ],
   "source": [
    "newPath = 'C:/dev/workspace/AutoGenerating_VariableName/pjt_practice/ipynb/data/sejong_corpus/newDataset.txt'\n",
    "\n",
    "with open(newPath,'r',encoding='utf8') as f :\n",
    "    tmp = f.readlines()\n",
    "\n",
    "len(tmp)"
   ]
  },
  {
   "cell_type": "code",
   "execution_count": 18,
   "metadata": {},
   "outputs": [],
   "source": [
    "import os\n",
    "tmp_path = 'C:/dev/Temporary_Test/py/AMVN_alpha/data/embed/weights/'\n",
    "\n",
    "weights_list = os.listdir(tmp_path)"
   ]
  },
  {
   "cell_type": "code",
   "execution_count": 20,
   "metadata": {},
   "outputs": [
    {
     "data": {
      "text/plain": [
       "'spacing_model_100.params'"
      ]
     },
     "execution_count": 20,
     "metadata": {},
     "output_type": "execute_result"
    }
   ],
   "source": [
    "weights_list[-1]"
   ]
  },
  {
   "cell_type": "code",
   "execution_count": null,
   "metadata": {},
   "outputs": [],
   "source": []
  }
 ],
 "metadata": {
  "kernelspec": {
   "display_name": "Python 3",
   "language": "python",
   "name": "python3"
  },
  "language_info": {
   "codemirror_mode": {
    "name": "ipython",
    "version": 3
   },
   "file_extension": ".py",
   "mimetype": "text/x-python",
   "name": "python",
   "nbconvert_exporter": "python",
   "pygments_lexer": "ipython3",
   "version": "3.7.4"
  }
 },
 "nbformat": 4,
 "nbformat_minor": 2
}
