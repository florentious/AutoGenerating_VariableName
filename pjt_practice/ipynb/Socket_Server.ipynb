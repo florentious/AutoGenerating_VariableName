{
 "cells": [
  {
   "cell_type": "code",
   "execution_count": null,
   "metadata": {},
   "outputs": [
    {
     "name": "stdout",
     "output_type": "stream",
     "text": [
      "'{\"inputDict\":\"\",\"isUseDefautDict\":\"True\",\"isUseInputDict\":\"False\",\"input_path\":\"input\\\\/test.xlsx\"}'\n",
      "'{\"inputDict\":\"\",\"isUseDefautDict\":\"True\",\"isUseInputDict\":\"False\",\"input_path\":\"input\\\\/test.xlsx\"}'\n",
      "'{\"inputDict\":\"\",\"isUseDefautDict\":\"True\",\"isUseInputDict\":\"False\",\"input_path\":\"input\\\\/test.xlsx\"}'\n"
     ]
    }
   ],
   "source": [
    "#!/usr/bin/env python3\n",
    "\n",
    "import socketserver, subprocess, sys\n",
    "from threading import Thread\n",
    "from pprint import pprint\n",
    "import json\n",
    "\n",
    "HOST = 'localhost'\n",
    "PORT = 9527\n",
    "\n",
    "class SingleTCPHandler(socketserver.BaseRequestHandler):\n",
    "    \"One instance per connection.  Override handle(self) to customize action.\"\n",
    "    def handle(self):\n",
    "        # self.request is the client connection\n",
    "        data = self.request.recv(1024)  # clip input at 1Kb\n",
    "        text = data.decode('utf-8')\n",
    "        pprint(json.loads(text))\n",
    "        \n",
    "        # json_data : input_path, isUseInputDict, inputDict_path, isUseDefaultDict\n",
    "#         for key in json.loads(text):\n",
    "#             pprint(json.loads(text)[key])\n",
    "        \n",
    "        output = {\n",
    "            \"status\" : True,\n",
    "            \"output_path\":\"output/test.xlsx\",\n",
    "            \"newDict_path\":\"newDict.xlsx\"\n",
    "        }\n",
    "        \n",
    "        self.request.send(bytes(json.dumps(output), 'UTF-8'))\n",
    "        self.request.close()\n",
    "\n",
    "class SimpleServer(socketserver.ThreadingMixIn, socketserver.TCPServer):\n",
    "    # Ctrl-C will cleanly kill all spawned threads\n",
    "    daemon_threads = True\n",
    "    # much faster rebinding\n",
    "    allow_reuse_address = True\n",
    "\n",
    "    def __init__(self, server_address, RequestHandlerClass):\n",
    "        socketserver.TCPServer.__init__(self, server_address, RequestHandlerClass)\n",
    "\n",
    "if __name__ == \"__main__\":\n",
    "    server = SimpleServer((HOST, PORT), SingleTCPHandler)\n",
    "    # terminate with Ctrl-C\n",
    "    try:\n",
    "        server.serve_forever()\n",
    "    except KeyboardInterrupt:\n",
    "        sys.exit(0)"
   ]
  },
  {
   "cell_type": "code",
   "execution_count": null,
   "metadata": {},
   "outputs": [],
   "source": []
  }
 ],
 "metadata": {
  "kernelspec": {
   "display_name": "Python 3",
   "language": "python",
   "name": "python3"
  },
  "language_info": {
   "codemirror_mode": {
    "name": "ipython",
    "version": 3
   },
   "file_extension": ".py",
   "mimetype": "text/x-python",
   "name": "python",
   "nbconvert_exporter": "python",
   "pygments_lexer": "ipython3",
   "version": "3.7.4"
  }
 },
 "nbformat": 4,
 "nbformat_minor": 2
}
