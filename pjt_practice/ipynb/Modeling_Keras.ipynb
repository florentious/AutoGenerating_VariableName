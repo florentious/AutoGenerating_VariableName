{
 "cells": [
  {
   "cell_type": "code",
   "execution_count": null,
   "metadata": {},
   "outputs": [],
   "source": []
  },
  {
   "cell_type": "code",
   "execution_count": 7,
   "metadata": {},
   "outputs": [],
   "source": [
    "def spacing_model(in_dim,out_dim,input_length) :\n",
    "    from keras.models import Sequential\n",
    "    from keras.layers import Bidirectional, LSTM, GRU, Dense, Activation, Conv2DTranspose\n",
    "    from keras.layers import TimeDistributed, Conv2D, Embedding, Lambda, Reshape\n",
    "    from keras.backend import expand_dims\n",
    "\n",
    "    model = Sequential()\n",
    "    \n",
    "    model.add(Embedding(in_dim, out_dim, input_length = input_length))\n",
    "    \n",
    "    # add_dim with expand_dims\n",
    "    model.add(Lambda(lambda x : expand_dims(model.output, axis=1)))   \n",
    "    \n",
    "    # NND(convoluation) Layers\n",
    "    model.add(Conv2D(64,kernel_size=(1, out_dim)))\n",
    "    model.add(Conv2D(128,kernel_size=(2, out_dim),padding='same'))\n",
    "    model.add(Conv2D(64,kernel_size=(3, out_dim),padding='same'))\n",
    "    model.add(Conv2D(32,kernel_size=(4, out_dim),padding='same'))\n",
    "    model.add(Conv2D(16,kernel_size=(5, out_dim),padding='same'))\n",
    "    \n",
    "    model.add(Conv2DTranspose(2, (1,3)))\n",
    "    model.add(Reshape((-1,input_length)))\n",
    "    # bidirectional_GRU\n",
    "    model.add(Bidirectional(GRU(10, return_sequences=True)))\n",
    "    model.add(Bidirectional(GRU(10, return_sequences=True)))\n",
    "    model.add(Dense(50, activation='relu'))\n",
    "    model.add(Dense(1, activation='sigmoid'))\n",
    "    \n",
    "    model.compile(loss='mse', optimizer='adam')\n",
    "    model.summary()\n",
    "    return model"
   ]
  },
  {
   "cell_type": "code",
   "execution_count": 8,
   "metadata": {},
   "outputs": [
    {
     "name": "stdout",
     "output_type": "stream",
     "text": [
      "Model: \"sequential_5\"\n",
      "_________________________________________________________________\n",
      "Layer (type)                 Output Shape              Param #   \n",
      "=================================================================\n",
      "embedding_5 (Embedding)      (None, 50, 10)            120000    \n",
      "_________________________________________________________________\n",
      "lambda_5 (Lambda)            (None, 1, 50, 10)         0         \n",
      "_________________________________________________________________\n",
      "conv2d_21 (Conv2D)           (None, 1, 41, 64)         6464      \n",
      "_________________________________________________________________\n",
      "conv2d_22 (Conv2D)           (None, 1, 41, 128)        163968    \n",
      "_________________________________________________________________\n",
      "conv2d_23 (Conv2D)           (None, 1, 41, 64)         245824    \n",
      "_________________________________________________________________\n",
      "conv2d_24 (Conv2D)           (None, 1, 41, 32)         81952     \n",
      "_________________________________________________________________\n",
      "conv2d_25 (Conv2D)           (None, 1, 41, 16)         25616     \n",
      "_________________________________________________________________\n",
      "conv2d_transpose_5 (Conv2DTr (None, 2, 43, 0)          0         \n",
      "_________________________________________________________________\n",
      "reshape_5 (Reshape)          (None, 0, 50)             0         \n",
      "_________________________________________________________________\n",
      "bidirectional_9 (Bidirection (None, 0, 20)             3660      \n",
      "_________________________________________________________________\n",
      "bidirectional_10 (Bidirectio (None, 0, 20)             1860      \n",
      "_________________________________________________________________\n",
      "dense_9 (Dense)              (None, 0, 50)             1050      \n",
      "_________________________________________________________________\n",
      "dense_10 (Dense)             (None, 0, 1)              51        \n",
      "=================================================================\n",
      "Total params: 650,445\n",
      "Trainable params: 650,445\n",
      "Non-trainable params: 0\n",
      "_________________________________________________________________\n"
     ]
    }
   ],
   "source": [
    "model = make_model(12000,10,50)"
   ]
  },
  {
   "cell_type": "code",
   "execution_count": null,
   "metadata": {},
   "outputs": [],
   "source": [
    "model.summary()"
   ]
  }
 ],
 "metadata": {
  "kernelspec": {
   "display_name": "Python 3",
   "language": "python",
   "name": "python3"
  },
  "language_info": {
   "codemirror_mode": {
    "name": "ipython",
    "version": 3
   },
   "file_extension": ".py",
   "mimetype": "text/x-python",
   "name": "python",
   "nbconvert_exporter": "python",
   "pygments_lexer": "ipython3",
   "version": "3.7.4"
  }
 },
 "nbformat": 4,
 "nbformat_minor": 2
}
