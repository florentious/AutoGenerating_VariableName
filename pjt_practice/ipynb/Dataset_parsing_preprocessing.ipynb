{
 "cells": [
  {
   "cell_type": "code",
   "execution_count": 119,
   "metadata": {},
   "outputs": [],
   "source": [
    "# dataset\n",
    "import os\n",
    "\n",
    "dir_path = 'data/sejong_corpus/computers_text/'\n",
    "dir_list =  [txt for txt in os.listdir(dir_path) if txt.endswith(\".txt\")]"
   ]
  },
  {
   "cell_type": "code",
   "execution_count": 120,
   "metadata": {},
   "outputs": [],
   "source": [
    "# dir_path 넣으면 출력 위치에 전체\n",
    "\n",
    "def preprocess_txt(dir_path,output_path) :\n",
    "    import os\n",
    "    import numpy as np\n",
    "    import pandas as pd\n",
    "    \n",
    "    def removeAll(origin,fileName) :\n",
    "        origin = list(filter(lambda a : a[:len(fileName.split('.')[0])] == fileName.split('.')[0], origin ))\n",
    "        origin = list(filter(lambda a : a.split('\\t')[1][0] != '<', origin))\n",
    "        return origin\n",
    "    def mkdirs_(output_path) : \n",
    "        try :\n",
    "            if not os.path.exists(output_path) :\n",
    "                os.mkdir(output_path)\n",
    "        except :\n",
    "            print('Error : '+ output_path)\n",
    "    \n",
    "    mkdirs_(output_path)\n",
    "    \n",
    "    \n",
    "    dir_list =  [txt for txt in os.listdir(dir_path) if txt.endswith(\".txt\")]\n",
    "    \n",
    "    for txt_ in dir_list :\n",
    "        \n",
    "        with open(dir_path+txt_,'r', encoding='utf-16') as f :\n",
    "            \n",
    "            txt_lines = f.readlines()\n",
    "            \n",
    "            tmp_df = pd.DataFrame([])\n",
    "            \n",
    "            tmp_idx = np.array([])\n",
    "            tmp_ori = np.array([])\n",
    "            tmp_res = np.array([])\n",
    "            \n",
    "            data = removeAll(txt_lines, txt_)\n",
    "            \n",
    "            for idx in range(len(data)) :\n",
    "                # del '\\n'\n",
    "                tmp_data = data[idx][:-1].split('\\t')\n",
    "                \n",
    "                tmp_idx = np.append(tmp_idx, tmp_data[0])\n",
    "                tmp_ori = np.append(tmp_ori, tmp_data[1])\n",
    "                tmp_res = np.append(tmp_res, tmp_data[2])\n",
    "            \n",
    "            tmp_df['idx'] = tmp_idx\n",
    "            tmp_df['origin'] = tmp_ori\n",
    "            tmp_df['result'] = tmp_res\n",
    "            \n",
    "            tmp_df.to_csv(output_path+txt_.split('.')[0]+'_conv.csv')"
   ]
  },
  {
   "cell_type": "code",
   "execution_count": null,
   "metadata": {},
   "outputs": [],
   "source": []
  },
  {
   "cell_type": "code",
   "execution_count": null,
   "metadata": {},
   "outputs": [],
   "source": [
    "dir_path = 'data/sejong_corpus/origin/'\n",
    "out_path = 'data/sejong_corpus/convert/'\n",
    "\n",
    "preprocess_txt(dir_path,out_path)\n"
   ]
  },
  {
   "cell_type": "code",
   "execution_count": 37,
   "metadata": {},
   "outputs": [
    {
     "data": {
      "text/plain": [
       "30768"
      ]
     },
     "execution_count": 37,
     "metadata": {},
     "output_type": "execute_result"
    }
   ],
   "source": [
    "len(txt_conv2)"
   ]
  },
  {
   "cell_type": "code",
   "execution_count": 48,
   "metadata": {},
   "outputs": [
    {
     "data": {
      "text/plain": [
       "'BTBG0273-00030768\\t있다.\\t있/VX + 다/EF + ./SF\\n'"
      ]
     },
     "execution_count": 48,
     "metadata": {},
     "output_type": "execute_result"
    }
   ],
   "source": [
    "txt_conv[-1]"
   ]
  },
  {
   "cell_type": "code",
   "execution_count": 80,
   "metadata": {},
   "outputs": [
    {
     "data": {
      "text/plain": [
       "['BTBG0273-00000001', '컴퓨터와', '컴퓨터/NNG + 와/JC']"
      ]
     },
     "execution_count": 80,
     "metadata": {},
     "output_type": "execute_result"
    }
   ],
   "source": [
    "txt_conv[0][:-1].split('\\t')"
   ]
  },
  {
   "cell_type": "code",
   "execution_count": 58,
   "metadata": {},
   "outputs": [],
   "source": [
    "test = txt_conv[0][:-1].split('\\t')"
   ]
  },
  {
   "cell_type": "code",
   "execution_count": 61,
   "metadata": {},
   "outputs": [
    {
     "data": {
      "text/plain": [
       "['BTBG0273-00000001', '컴퓨터와', '컴퓨터/NNG + 와/JC']"
      ]
     },
     "execution_count": 61,
     "metadata": {},
     "output_type": "execute_result"
    }
   ],
   "source": [
    "test"
   ]
  },
  {
   "cell_type": "code",
   "execution_count": 106,
   "metadata": {},
   "outputs": [
    {
     "data": {
      "text/plain": [
       "True"
      ]
     },
     "execution_count": 106,
     "metadata": {},
     "output_type": "execute_result"
    }
   ],
   "source": [
    "txt_lines[0].split('\\t')[1][0] == '<'"
   ]
  }
 ],
 "metadata": {
  "kernelspec": {
   "display_name": "Python 3",
   "language": "python",
   "name": "python3"
  },
  "language_info": {
   "codemirror_mode": {
    "name": "ipython",
    "version": 3
   },
   "file_extension": ".py",
   "mimetype": "text/x-python",
   "name": "python",
   "nbconvert_exporter": "python",
   "pygments_lexer": "ipython3",
   "version": "3.7.4"
  }
 },
 "nbformat": 4,
 "nbformat_minor": 2
}
