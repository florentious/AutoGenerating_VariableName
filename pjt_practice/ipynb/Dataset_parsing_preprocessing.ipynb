{
 "cells": [
  {
   "cell_type": "code",
   "execution_count": 1,
   "metadata": {},
   "outputs": [],
   "source": [
    "# dataset\n",
    "import os\n",
    "\n",
    "dir_path = 'data/sejong_corpus/computers_text/'\n",
    "dir_list =  [txt for txt in os.listdir(dir_path) if txt.endswith(\".txt\")]"
   ]
  },
  {
   "cell_type": "code",
   "execution_count": 2,
   "metadata": {},
   "outputs": [],
   "source": [
    "# dir_path 넣으면 출력 위치에 전체\n",
    "\n",
    "def preprocess_txt(dir_path,output_path) :\n",
    "    import os\n",
    "    import numpy as np\n",
    "    import pandas as pd\n",
    "    \n",
    "    def removeAll(origin,fileName) :\n",
    "        origin = list(filter(lambda a : a[:len(fileName.split('.')[0])] == fileName.split('.')[0], origin ))\n",
    "        origin = list(filter(lambda a : a.split('\\t')[1][0] != '<', origin))\n",
    "        return origin\n",
    "    def mkdirs_(output_path) : \n",
    "        try :\n",
    "            if not os.path.exists(output_path) :\n",
    "                os.mkdir(output_path)\n",
    "        except :\n",
    "            print('Error : '+ output_path)\n",
    "    \n",
    "    mkdirs_(output_path)\n",
    "    \n",
    "    \n",
    "    dir_list =  [txt for txt in os.listdir(dir_path) if txt.endswith(\".txt\")]\n",
    "    \n",
    "    for txt_ in dir_list :\n",
    "        \n",
    "        with open(dir_path+txt_,'r', encoding='utf-16') as f :\n",
    "            \n",
    "            txt_lines = f.readlines()\n",
    "            \n",
    "            tmp_df = pd.DataFrame([])\n",
    "            \n",
    "            tmp_idx = np.array([])\n",
    "            tmp_ori = np.array([])\n",
    "            tmp_res = np.array([])\n",
    "            \n",
    "            data = removeAll(txt_lines, txt_)\n",
    "            \n",
    "            for idx in range(len(data)) :\n",
    "                # del '\\n'\n",
    "                tmp_data = data[idx][:-1].split('\\t')\n",
    "                \n",
    "                tmp_idx = np.append(tmp_idx, tmp_data[0])\n",
    "                tmp_ori = np.append(tmp_ori, tmp_data[1])\n",
    "                tmp_res = np.append(tmp_res, tmp_data[2])\n",
    "            \n",
    "            tmp_df['idx'] = tmp_idx\n",
    "            tmp_df['origin'] = tmp_ori\n",
    "            tmp_df['result'] = tmp_res\n",
    "            \n",
    "            tmp_df.to_csv(output_path+txt_.split('.')[0]+'_conv.csv')"
   ]
  },
  {
   "cell_type": "code",
   "execution_count": null,
   "metadata": {},
   "outputs": [],
   "source": []
  },
  {
   "cell_type": "code",
   "execution_count": 3,
   "metadata": {},
   "outputs": [
    {
     "ename": "KeyboardInterrupt",
     "evalue": "",
     "output_type": "error",
     "traceback": [
      "\u001b[1;31m---------------------------------------------------------------------------\u001b[0m",
      "\u001b[1;31mKeyboardInterrupt\u001b[0m                         Traceback (most recent call last)",
      "\u001b[1;32m<ipython-input-3-2860cefc8780>\u001b[0m in \u001b[0;36m<module>\u001b[1;34m\u001b[0m\n\u001b[0;32m      2\u001b[0m \u001b[0mout_path\u001b[0m \u001b[1;33m=\u001b[0m \u001b[1;34m'data/sejong_corpus/convert/'\u001b[0m\u001b[1;33m\u001b[0m\u001b[1;33m\u001b[0m\u001b[0m\n\u001b[0;32m      3\u001b[0m \u001b[1;33m\u001b[0m\u001b[0m\n\u001b[1;32m----> 4\u001b[1;33m \u001b[0mpreprocess_txt\u001b[0m\u001b[1;33m(\u001b[0m\u001b[0mdir_path\u001b[0m\u001b[1;33m,\u001b[0m\u001b[0mout_path\u001b[0m\u001b[1;33m)\u001b[0m\u001b[1;33m\u001b[0m\u001b[1;33m\u001b[0m\u001b[0m\n\u001b[0m",
      "\u001b[1;32m<ipython-input-2-83655917df25>\u001b[0m in \u001b[0;36mpreprocess_txt\u001b[1;34m(dir_path, output_path)\u001b[0m\n\u001b[0;32m     42\u001b[0m                 \u001b[0mtmp_idx\u001b[0m \u001b[1;33m=\u001b[0m \u001b[0mnp\u001b[0m\u001b[1;33m.\u001b[0m\u001b[0mappend\u001b[0m\u001b[1;33m(\u001b[0m\u001b[0mtmp_idx\u001b[0m\u001b[1;33m,\u001b[0m \u001b[0mtmp_data\u001b[0m\u001b[1;33m[\u001b[0m\u001b[1;36m0\u001b[0m\u001b[1;33m]\u001b[0m\u001b[1;33m)\u001b[0m\u001b[1;33m\u001b[0m\u001b[1;33m\u001b[0m\u001b[0m\n\u001b[0;32m     43\u001b[0m                 \u001b[0mtmp_ori\u001b[0m \u001b[1;33m=\u001b[0m \u001b[0mnp\u001b[0m\u001b[1;33m.\u001b[0m\u001b[0mappend\u001b[0m\u001b[1;33m(\u001b[0m\u001b[0mtmp_ori\u001b[0m\u001b[1;33m,\u001b[0m \u001b[0mtmp_data\u001b[0m\u001b[1;33m[\u001b[0m\u001b[1;36m1\u001b[0m\u001b[1;33m]\u001b[0m\u001b[1;33m)\u001b[0m\u001b[1;33m\u001b[0m\u001b[1;33m\u001b[0m\u001b[0m\n\u001b[1;32m---> 44\u001b[1;33m                 \u001b[0mtmp_res\u001b[0m \u001b[1;33m=\u001b[0m \u001b[0mnp\u001b[0m\u001b[1;33m.\u001b[0m\u001b[0mappend\u001b[0m\u001b[1;33m(\u001b[0m\u001b[0mtmp_res\u001b[0m\u001b[1;33m,\u001b[0m \u001b[0mtmp_data\u001b[0m\u001b[1;33m[\u001b[0m\u001b[1;36m2\u001b[0m\u001b[1;33m]\u001b[0m\u001b[1;33m)\u001b[0m\u001b[1;33m\u001b[0m\u001b[1;33m\u001b[0m\u001b[0m\n\u001b[0m\u001b[0;32m     45\u001b[0m \u001b[1;33m\u001b[0m\u001b[0m\n\u001b[0;32m     46\u001b[0m             \u001b[0mtmp_df\u001b[0m\u001b[1;33m[\u001b[0m\u001b[1;34m'idx'\u001b[0m\u001b[1;33m]\u001b[0m \u001b[1;33m=\u001b[0m \u001b[0mtmp_idx\u001b[0m\u001b[1;33m\u001b[0m\u001b[1;33m\u001b[0m\u001b[0m\n",
      "\u001b[1;32m<__array_function__ internals>\u001b[0m in \u001b[0;36mappend\u001b[1;34m(*args, **kwargs)\u001b[0m\n",
      "\u001b[1;32mC:\\dev\\Anaconda3\\lib\\site-packages\\numpy\\lib\\function_base.py\u001b[0m in \u001b[0;36mappend\u001b[1;34m(arr, values, axis)\u001b[0m\n\u001b[0;32m   4691\u001b[0m         \u001b[0mvalues\u001b[0m \u001b[1;33m=\u001b[0m \u001b[0mravel\u001b[0m\u001b[1;33m(\u001b[0m\u001b[0mvalues\u001b[0m\u001b[1;33m)\u001b[0m\u001b[1;33m\u001b[0m\u001b[1;33m\u001b[0m\u001b[0m\n\u001b[0;32m   4692\u001b[0m         \u001b[0maxis\u001b[0m \u001b[1;33m=\u001b[0m \u001b[0marr\u001b[0m\u001b[1;33m.\u001b[0m\u001b[0mndim\u001b[0m\u001b[1;33m-\u001b[0m\u001b[1;36m1\u001b[0m\u001b[1;33m\u001b[0m\u001b[1;33m\u001b[0m\u001b[0m\n\u001b[1;32m-> 4693\u001b[1;33m     \u001b[1;32mreturn\u001b[0m \u001b[0mconcatenate\u001b[0m\u001b[1;33m(\u001b[0m\u001b[1;33m(\u001b[0m\u001b[0marr\u001b[0m\u001b[1;33m,\u001b[0m \u001b[0mvalues\u001b[0m\u001b[1;33m)\u001b[0m\u001b[1;33m,\u001b[0m \u001b[0maxis\u001b[0m\u001b[1;33m=\u001b[0m\u001b[0maxis\u001b[0m\u001b[1;33m)\u001b[0m\u001b[1;33m\u001b[0m\u001b[1;33m\u001b[0m\u001b[0m\n\u001b[0m\u001b[0;32m   4694\u001b[0m \u001b[1;33m\u001b[0m\u001b[0m\n\u001b[0;32m   4695\u001b[0m \u001b[1;33m\u001b[0m\u001b[0m\n",
      "\u001b[1;32m<__array_function__ internals>\u001b[0m in \u001b[0;36mconcatenate\u001b[1;34m(*args, **kwargs)\u001b[0m\n",
      "\u001b[1;31mKeyboardInterrupt\u001b[0m: "
     ]
    }
   ],
   "source": [
    "dir_path = 'data/sejong_corpus/origin/'\n",
    "out_path = 'data/sejong_corpus/convert/'\n",
    "\n",
    "preprocess_txt(dir_path,out_path)"
   ]
  },
  {
   "cell_type": "code",
   "execution_count": null,
   "metadata": {},
   "outputs": [],
   "source": []
  },
  {
   "cell_type": "code",
   "execution_count": 6,
   "metadata": {},
   "outputs": [],
   "source": [
    "def txt2csv(dir_path,output_path, output_name='data/sejong_corpus/sejong_corpus.csv') :\n",
    "    import os\n",
    "    import numpy as np\n",
    "    import pandas as pd\n",
    "    \n",
    "    def removeAll(origin,fileName) :\n",
    "        origin = list(filter(lambda a : a[:len(fileName.split('.')[0])] == fileName.split('.')[0], origin ))\n",
    "        origin = list(filter(lambda a : a.split('\\t')[1][0] != '<', origin))\n",
    "        return origin\n",
    "    def mkdirs_(output_path) : \n",
    "        try :\n",
    "            if not os.path.exists(output_path) :\n",
    "                os.mkdir(output_path)\n",
    "        except :\n",
    "            print('Error : '+ output_path)\n",
    "    \n",
    "    mkdirs_(output_path)\n",
    "    \n",
    "    res_df = pd.DataFrame([])\n",
    "    dir_list =  [txt for txt in os.listdir(dir_path) if txt.endswith(\".txt\")]\n",
    "    \n",
    "    for txt_ in dir_list :\n",
    "        \n",
    "        with open(dir_path+txt_,'r', encoding='utf-16') as f :\n",
    "            \n",
    "            txt_lines = f.readlines()\n",
    "            \n",
    "            tmp_df = pd.DataFrame([])\n",
    "            \n",
    "            tmp_idx = np.array([])\n",
    "            tmp_ori = np.array([])\n",
    "            tmp_res = np.array([])\n",
    "            \n",
    "            data = removeAll(txt_lines, txt_)\n",
    "            \n",
    "            for idx in range(len(data)) :\n",
    "                # del '\\n'\n",
    "                tmp_data = data[idx][:-1].split('\\t')\n",
    "                \n",
    "                tmp_idx = np.append(tmp_idx, tmp_data[0])\n",
    "                tmp_ori = np.append(tmp_ori, tmp_data[1])\n",
    "                tmp_res = np.append(tmp_res, tmp_data[2])\n",
    "            \n",
    "            tmp_df['idx'] = tmp_idx\n",
    "            tmp_df['origin'] = tmp_ori\n",
    "            tmp_df['result'] = tmp_res\n",
    "            \n",
    "            res_df = res_df.append(tmp_df, ignore_index = True)\n",
    "            tmp_df.to_csv(output_path+txt_.split('.')[0]+'_conv.csv')\n",
    "            \n",
    "    res_df = res_df.reset_index()\n",
    "\n",
    "    res_df.to_csv(output_name)"
   ]
  },
  {
   "cell_type": "code",
   "execution_count": null,
   "metadata": {},
   "outputs": [],
   "source": [
    "input_path = 'data/sejong_corpus/origin/'\n",
    "output_path = 'data/sejong_corpus/convert/'\n",
    "\n",
    "output_name = 'sejong_corpus.csv'\n",
    "\n",
    "txt2csv(input_path,output_path)"
   ]
  },
  {
   "cell_type": "code",
   "execution_count": null,
   "metadata": {},
   "outputs": [],
   "source": []
  },
  {
   "cell_type": "code",
   "execution_count": null,
   "metadata": {},
   "outputs": [],
   "source": []
  }
 ],
 "metadata": {
  "kernelspec": {
   "display_name": "Python 3",
   "language": "python",
   "name": "python3"
  },
  "language_info": {
   "codemirror_mode": {
    "name": "ipython",
    "version": 3
   },
   "file_extension": ".py",
   "mimetype": "text/x-python",
   "name": "python",
   "nbconvert_exporter": "python",
   "pygments_lexer": "ipython3",
   "version": "3.7.4"
  }
 },
 "nbformat": 4,
 "nbformat_minor": 2
}
